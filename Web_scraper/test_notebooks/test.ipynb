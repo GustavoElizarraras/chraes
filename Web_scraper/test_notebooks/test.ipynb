{
 "cells": [
  {
   "cell_type": "code",
   "execution_count": null,
   "metadata": {},
   "outputs": [],
   "source": [
    "from bs4 import BeautifulSoup\n",
    "import requests"
   ]
  },
  {
   "cell_type": "code",
   "execution_count": null,
   "metadata": {},
   "outputs": [],
   "source": [
    "saes_login = requests.get('https://www.saes.upiita.ipn.mx/default.aspx')\n",
    "soup = BeautifulSoup(saes_login)\n"
   ]
  }
 ],
 "metadata": {
  "interpreter": {
   "hash": "0610c96838c27606f8e9342eb4dfc747be1d21b511b2549b36ec7fc5fba5dd05"
  },
  "kernelspec": {
   "display_name": "Python 3.8.12 64-bit ('global': conda)",
   "language": "python",
   "name": "python3"
  },
  "language_info": {
   "name": "python",
   "version": "3.8.12"
  },
  "orig_nbformat": 4
 },
 "nbformat": 4,
 "nbformat_minor": 2
}

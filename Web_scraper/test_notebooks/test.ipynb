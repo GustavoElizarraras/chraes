{
 "cells": [
  {
   "cell_type": "code",
   "execution_count": null,
   "metadata": {},
   "outputs": [],
   "source": [
    "from bs4 import BeautifulSoup\n",
    "import requests\n",
    "from urllib.request import urlopen as ur "
   ]
  },
  {
   "cell_type": "code",
   "execution_count": 15,
   "metadata": {},
   "outputs": [
    {
     "data": {
      "text/plain": [
       "[<img alt=\"CAPTCHA\" class=\"LBD_CaptchaImage\" id=\"c_default_ctl00_leftcolumn_loginuser_logincaptcha_CaptchaImage\" src=\"/BotDetectCaptcha.ashx?get=image&amp;c=c_default_ctl00_leftcolumn_loginuser_logincaptcha&amp;t=0a8f50c04b86429ea9543916794fd959\"/>]"
      ]
     },
     "execution_count": 15,
     "metadata": {},
     "output_type": "execute_result"
    }
   ],
   "source": [
    "headers = {'User-Agent': \"Mozilla/5.0 (X11; Linux x86_64) AppleWebKit/537.36 (KHTML, like Gecko) Chrome/96.0.4664.110 Safari/537.36\"}\n",
    "url = 'https://www.saes.upiita.ipn.mx/default.aspx'\n",
    "# uclient = ur(url)\n",
    "# page_html = uclient.read()\n",
    "# uclient.close()\n",
    "r = requests.get(url, headers=headers)\n",
    "page_soup = BeautifulSoup(r.text, \"html.parser\")\n",
    "containers = page_soup.find_all(\"div\", {\"class\":\"LBD_CaptchaImageDiv\"})\n",
    "# containers = containers[0].find_all(\"img\", {\"class\":\"LBD_CaptchaImageDiv\"})\n",
    "# containers = page_soup.find_all(\"div\", {\"class\":\"LBD_CaptchaImageDiv\"})\n",
    "# src_img = requests.get(containers[0].img[\"src\"])\n",
    "# src_img\n",
    "# containers[0].replace('https://www.saes.upiita.ipn.mx/')\n",
    "containers[0].find_all(\"img\")"
   ]
  },
  {
   "cell_type": "code",
   "execution_count": 29,
   "metadata": {},
   "outputs": [
    {
     "data": {
      "text/plain": [
       "'my5wasafr40t4355yrfp4vap'"
      ]
     },
     "execution_count": 29,
     "metadata": {},
     "output_type": "execute_result"
    }
   ],
   "source": [
    "r.cookies.get_dict()['ASP.NET_SessionId']"
   ]
  },
  {
   "cell_type": "code",
   "execution_count": 31,
   "metadata": {},
   "outputs": [
    {
     "name": "stdout",
     "output_type": "stream",
     "text": [
      "my5wasafr40t4355yrfp4vap\n",
      "[<div class=\"LBD_CaptchaImageDiv\" id=\"c_default_ctl00_leftcolumn_loginuser_logincaptcha_CaptchaImageDiv\" style=\"width: 100px !important; height: 50px !important;\"><!--\n",
      "--><a href=\"http://captcha.com/asp.net-captcha-info.html\" onclick=\"c_default_ctl00_leftcolumn_loginuser_logincaptcha.OnHelpLinkClick(); return c_default_ctl00_leftcolumn_loginuser_logincaptcha.FollowHelpLink;\" target=\"_blank\" title=\".NET CAPTCHA\"><img alt=\"CAPTCHA\" class=\"LBD_CaptchaImage\" id=\"c_default_ctl00_leftcolumn_loginuser_logincaptcha_CaptchaImage\" src=\"/BotDetectCaptcha.ashx?get=image&amp;c=c_default_ctl00_leftcolumn_loginuser_logincaptcha&amp;t=0a8f50c04b86429ea9543916794fd959\"/></a><!--\n",
      "--></div>]\n",
      "/wEPDwUJNDM4MjMwNTM1D2QWAmYPZBYCAgMPZBYKAgEPDxYCHghJbWFnZVVybAUVfi9JbWFnZXMvbG9nb3MvNjQucG5nZGQCBQ88KwANAgAPFgIeC18hRGF0YUJvdW5kZ2QMFCsAAgUDMDowFCsAAhYSHgVWYWx1ZQUGSW5pY2lvHglEYXRhQm91bmRnHghTZWxlY3RlZGceBFRleHQFBkluaWNpbx4LTmF2aWdhdGVVcmwFDS9kZWZhdWx0LmFzcHgeB0VuYWJsZWRnHgpTZWxlY3RhYmxlZx4HVG9vbFRpcAUGSW5pY2lvHghEYXRhUGF0aAUNL2RlZmF1bHQuYXNweBQrAAQFCzA6MCwwOjEsMDoyFCsAAhYQHwUFClJlZ2xhbWVudG8fAgUKUmVnbGFtZW50bx8GBRgvUmVnbGFtZW50by9EZWZhdWx0LmFzcHgfCQUKUmVnbGFtZW50bx8HZx8IZx8KBRgvcmVnbGFtZW50by9kZWZhdWx0LmFzcHgfA2dkFCsAAhYQHwUFBUF5dWRhHwIFBUF5dWRhHwYFES9BeXVkYS9BeXVkYS5hc3B4HwkFBUF5dWRhHwdnHwhnHwoFES9heXVkYS9heXVkYS5hc3B4HwNnZBQrAAIWEB8FBRVSZWN1cGVyYXIgQ29udHJhc2XDsWEfAgUVUmVjdXBlcmFyIENvbnRyYXNlw7FhHwYFHC9TZW5kRW1haWwvUmVjdXBlcmFQYXNzLmFzcHgfCQUqUmVjdXBlcmFyIGxhIENvbnRyYXNlw7FhIGRlIGFjY2VzbyBhbCBTQUVTHwdnHwhnHwoFHC9zZW5kZW1haWwvcmVjdXBlcmFwYXNzLmFzcHgfA2dkZAIID2QWAgIDDw8WAh8FZWRkAgkPPCsADQEADxYCHwFnZGQCCg9kFgICAQ8WAh4HVmlzaWJsZWhkGAEFDmN0bDAwJG1haW5tZW51Dw9kBQZJbmljaW9kf1TXNDH5x9mYv/NrF6oAObT6kdY=\n"
     ]
    }
   ],
   "source": [
    "headers = {'User-Agent': \"Mozilla/5.0 (X11; Linux x86_64) AppleWebKit/537.36 (KHTML, like Gecko) Chrome/96.0.4664.110 Safari/537.36\"}\n",
    "url = 'https://www.saes.upiita.ipn.mx/default.aspx'\n",
    "\n",
    "with requests.Session() as s:\n",
    "    s.headers['User-Agent'] = \"Mozilla/5.0 (X11; Linux x86_64) AppleWebKit/537.36 (KHTML, like Gecko) Chrome/96.0.4664.110 Safari/537.36\"\n",
    "    res = s.get(url)\n",
    "    print(r.cookies.get_dict()['ASP.NET_SessionId'])\n",
    "    soup = BeautifulSoup(res.text, \"html.parser\")\n",
    "    containers = page_soup.find_all(\"div\", {\"class\":\"LBD_CaptchaImageDiv\"})\n",
    "    print(containers)\n",
    "    VIEWSTATE=soup.find(id=\"__VIEWSTATE\")['value']\n",
    "    print(VIEWSTATE)"
   ]
  },
  {
   "cell_type": "code",
   "execution_count": null,
   "metadata": {},
   "outputs": [],
   "source": [
    "put()\n",
    "credenciales \n",
    "session\n",
    "requestt\n",
    " \n",
    "d = {}"
   ]
  },
  {
   "cell_type": "markdown",
   "metadata": {},
   "source": [
    "saesper\n",
    "chraes\n",
    "schedule + saes + scraper"
   ]
  },
  {
   "cell_type": "code",
   "execution_count": null,
   "metadata": {},
   "outputs": [],
   "source": []
  }
 ],
 "metadata": {
  "interpreter": {
   "hash": "0610c96838c27606f8e9342eb4dfc747be1d21b511b2549b36ec7fc5fba5dd05"
  },
  "kernelspec": {
   "display_name": "Python 3.8.12 64-bit ('global': conda)",
   "language": "python",
   "name": "python3"
  },
  "language_info": {
   "codemirror_mode": {
    "name": "ipython",
    "version": 3
   },
   "file_extension": ".py",
   "mimetype": "text/x-python",
   "name": "python",
   "nbconvert_exporter": "python",
   "pygments_lexer": "ipython3",
   "version": "3.8.12"
  },
  "orig_nbformat": 4
 },
 "nbformat": 4,
 "nbformat_minor": 2
}

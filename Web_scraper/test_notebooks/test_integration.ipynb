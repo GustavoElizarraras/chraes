{
 "cells": [
  {
   "cell_type": "code",
   "execution_count": 1,
   "metadata": {},
   "outputs": [],
   "source": [
    "from selenium import webdriver\n",
    "from selenium.webdriver.common.keys import Keys\n",
    "from selenium.webdriver.support.ui import Select\n",
    "from selenium.webdriver.common.by import By\n",
    "from dotenv import load_dotenv\n",
    "import pandas as pd\n",
    "import os\n",
    "\n",
    "load_dotenv(\"../.env\")\n",
    "user = os.getenv('USERR')\n",
    "password = os.getenv('PASSW')"
   ]
  },
  {
   "cell_type": "code",
   "execution_count": 2,
   "id": "d15d27e0",
   "metadata": {},
   "outputs": [],
   "source": [
    "op = webdriver.ChromeOptions()\n",
    "op.add_argument(\"--headless\")\n",
    "\n",
    "driver = webdriver.Chrome('../chromedriver', options=op)\n",
    "driver.get('https://www.saes.upiita.ipn.mx/')\n",
    "\n",
    "# Finding the input tags\n",
    "user_in = driver.find_element_by_css_selector('#ctl00_leftColumn_LoginUser_UserName')\n",
    "pas_in = driver.find_element_by_css_selector('.passwordEntry')\n",
    "captcha_in = driver.find_element_by_css_selector(\"#ctl00_leftColumn_LoginUser_CaptchaCodeTextBox\")\n",
    "\n",
    "# Screenshot for the captcha\n",
    "driver.save_screenshot(\"screen.png\")\n",
    "\n",
    "# Sending the user data to the form\n",
    "user_in.send_keys(user)\n",
    "pas_in.send_keys(password)\n",
    "captcha_in.send_keys(input(\"Captcha:\"))\n",
    "pas_in.send_keys(Keys.RETURN)"
   ]
  },
  {
   "cell_type": "code",
   "execution_count": 3,
   "id": "d98f672c",
   "metadata": {},
   "outputs": [],
   "source": [
    "# Going to the ocupation page in the same session\n",
    "driver.get('https://www.saes.upiita.ipn.mx/Academica/Ocupabilidad_grupos.aspx')\n",
    "\n",
    "# Selecting actual school period\n",
    "driver.find_element_by_id(\"ctl00_mainCopy_rblEsquema_0\").click()\n",
    "\n",
    "\n",
    "# Iterating over the 3 carreers\n",
    "careers = {\"M\" : [], \"B\": [], \"T\": []}\n",
    "columns_name = [\"Grupo\", \"Semestre\", \"Cupo\", \"Inscritos\", \"Disponibles\", \"Asignatura\"]\n",
    "for career in careers.keys():\n",
    "    # Finding the carreer selector \n",
    "    career_finder = driver.find_element_by_id(\"ctl00_mainCopy_dpdcarrera\")\n",
    "    career_selector = Select(career_finder)\n",
    "    # Selecting which career to find\n",
    "    career_selector.select_by_value(career)\n",
    "    # Getting a single string for all the web table\n",
    "    ocupability_str = driver.find_element_by_id(\"ctl00_mainCopy_GrvOcupabilidad\").text\n",
    "    # Split the rows for each \\n into a single string\n",
    "    rows = ocupability_str.split(\"\\n\")\n",
    "    # Separate in columns by the spaces between them\n",
    "    ocupability_processed = [col.split(\" \") for col in rows[1:]]\n",
    "    # the course name gets separated, let's fix it\n",
    "    for row in ocupability_processed:\n",
    "        # slicing the course name\n",
    "        course_name_slice = row[2:-4]\n",
    "        # concatenating\n",
    "        course_str = \" \".join(course_name_slice)\n",
    "        # deleting the separated course name string\n",
    "        del row[1:-4]\n",
    "        # appending the concatenated string\n",
    "        row.append(course_str)\n",
    "        row.append(course_str+row[0])\n",
    "        careers[career].append(row)"
   ]
  },
  {
   "cell_type": "code",
   "execution_count": null,
   "id": "09525883",
   "metadata": {},
   "outputs": [],
   "source": [
    "careers['M']"
   ]
  },
  {
   "cell_type": "code",
   "execution_count": 5,
   "id": "2072e8f3",
   "metadata": {},
   "outputs": [],
   "source": [
    "columns_name = [\"Grupo\", \"Semestre\", \"Cupo\", \"Inscritos\", \"Disponibles\", \"Asignatura\", \"id\"]"
   ]
  },
  {
   "cell_type": "code",
   "execution_count": 25,
   "id": "1046bdff",
   "metadata": {},
   "outputs": [],
   "source": [
    "M_courses = {\"courses\": [], \"id\": \"M\"}\n",
    "B_courses = {\"courses\": [], \"id\": \"B\"}\n",
    "T_courses = {\"courses\": [], \"id\": \"T\"}\n",
    "# for course in careers[\"M\"]:\n",
    "#     courses[\"courses\"].append({k:v for k,v in zip(columns_name, course)})\n"
   ]
  },
  {
   "cell_type": "code",
   "execution_count": 26,
   "id": "200a89fb",
   "metadata": {},
   "outputs": [],
   "source": [
    "courses_api_format = [M_courses, B_courses, T_courses]"
   ]
  },
  {
   "cell_type": "code",
   "execution_count": 19,
   "id": "48163546",
   "metadata": {},
   "outputs": [
    {
     "data": {
      "text/plain": [
       "[{'courses': [], 'id': 'M'},\n",
       " {'courses': [], 'id': 'B'},\n",
       " {'courses': [], 'id': 'T'}]"
      ]
     },
     "execution_count": 19,
     "metadata": {},
     "output_type": "execute_result"
    }
   ],
   "source": [
    "courses_api_format"
   ]
  },
  {
   "cell_type": "code",
   "execution_count": null,
   "id": "5fa692a4",
   "metadata": {},
   "outputs": [],
   "source": [
    "list(zip(careers.values(), courses_api_format))"
   ]
  },
  {
   "cell_type": "code",
   "execution_count": 22,
   "id": "8f78db27",
   "metadata": {},
   "outputs": [],
   "source": [
    "from azure.cosmos import CosmosClient\n",
    "from azure.cosmos import PartitionKey\n",
    "from dotenv import load_dotenv\n",
    "load_dotenv('../.env')\n",
    "HOST = os.getenv('HOST')\n",
    "MASTER_KEY = os.getenv('KEY')\n",
    "DATABASE_ID = os.getenv('DBID')"
   ]
  },
  {
   "cell_type": "code",
   "execution_count": 24,
   "id": "f4352f71",
   "metadata": {},
   "outputs": [],
   "source": [
    "client = CosmosClient(HOST, {'masterKey': MASTER_KEY})\n",
    "db = client.get_database_client(DATABASE_ID)\n",
    "container_prueba = db.get_container_client(\"Prubea\")"
   ]
  },
  {
   "cell_type": "code",
   "execution_count": 28,
   "id": "4047c793",
   "metadata": {},
   "outputs": [],
   "source": [
    "for career, for_api in zip(careers.values(), courses_api_format):\n",
    "    for course in career:\n",
    "        # print(course)\n",
    "        for_api[\"courses\"].append({k:v for k,v in zip(columns_name, course)})\n",
    "        container_prueba.upsert_item(for_api)"
   ]
  },
  {
   "cell_type": "code",
   "execution_count": null,
   "id": "d9dbbdf5",
   "metadata": {},
   "outputs": [],
   "source": [
    "container_prueba.upsert_item(courses)"
   ]
  }
 ],
 "metadata": {
  "interpreter": {
   "hash": "0610c96838c27606f8e9342eb4dfc747be1d21b511b2549b36ec7fc5fba5dd05"
  },
  "kernelspec": {
   "display_name": "Python 3.8.12 64-bit ('global': conda)",
   "language": "python",
   "name": "python3"
  },
  "language_info": {
   "codemirror_mode": {
    "name": "ipython",
    "version": 3
   },
   "file_extension": ".py",
   "mimetype": "text/x-python",
   "name": "python",
   "nbconvert_exporter": "python",
   "pygments_lexer": "ipython3",
   "version": "3.8.12"
  }
 },
 "nbformat": 4,
 "nbformat_minor": 5
}
